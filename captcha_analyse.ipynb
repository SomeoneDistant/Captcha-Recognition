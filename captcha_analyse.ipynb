{
 "cells": [
  {
   "cell_type": "markdown",
   "id": "fae87659-3995-4c0b-b467-d3e7f49f0d65",
   "metadata": {},
   "source": [
    "# Captcha Image Analysis"
   ]
  },
  {
   "cell_type": "code",
   "execution_count": 1,
   "id": "11c5e445-a99d-417f-8815-2b33a063e6c1",
   "metadata": {},
   "outputs": [],
   "source": [
    "# Load packages\n",
    "import os\n",
    "import warnings\n",
    "from glob import glob\n",
    "import numpy as np\n",
    "import cv2\n",
    "import matplotlib.pyplot as plt"
   ]
  },
  {
   "cell_type": "markdown",
   "id": "fbf06f85-d1b8-4a54-a22b-64e0fbddcf8e",
   "metadata": {},
   "source": [
    "## Load and check training data from \"sampleCaptchas\" folder\n",
    "- Search all images in \"input\" folder.\n",
    "- Images without input or output text file will be moved into test dataset."
   ]
  },
  {
   "cell_type": "code",
   "execution_count": 2,
   "id": "243e4ab1-77d7-48f8-b7cb-f93242e2a7f9",
   "metadata": {},
   "outputs": [
    {
     "name": "stderr",
     "output_type": "stream",
     "text": [
      "/tmp/ipykernel_3579110/4132654970.py:18: UserWarning: Could not find file \"./sampleCaptchas/input/input100.txt\".\n",
      "  warnings.warn(f'Could not find file \"{input_txt}\".', UserWarning)\n",
      "/tmp/ipykernel_3579110/4132654970.py:15: UserWarning: Could not find file \"./sampleCaptchas/output/output21.txt\".\n",
      "  warnings.warn(f'Could not find file \"{output_txt}\".', UserWarning)\n"
     ]
    }
   ],
   "source": [
    "train_img_list = []\n",
    "train_txt_list = []\n",
    "label_txt_list = []\n",
    "test_img_list = []\n",
    "train_path = './sampleCaptchas'\n",
    "for img_file in sorted(glob(train_path + '/input/*.jpg')):\n",
    "    input_txt = img_file.replace('.jpg', '.txt')\n",
    "    output_txt = input_txt.replace('input', 'output')\n",
    "    if os.path.exists(input_txt):\n",
    "        if os.path.exists(output_txt):\n",
    "            train_img_list.append(img_file)\n",
    "            train_txt_list.append(input_txt)\n",
    "            label_txt_list.append(output_txt)\n",
    "        else:\n",
    "            warnings.warn(f'Could not find file \"{output_txt}\".', UserWarning)\n",
    "            test_img_list.append(img_file)\n",
    "    else:\n",
    "        warnings.warn(f'Could not find file \"{input_txt}\".', UserWarning)\n",
    "        test_img_list.append(img_file)"
   ]
  },
  {
   "cell_type": "markdown",
   "id": "90a7c12e-1ff0-4057-a789-958b3011a43a",
   "metadata": {},
   "source": [
    "- Load the image and check if its height and width match the values in its corresponding intput text file.\n",
    "- Check whether each pixel in the image matches the values in its corresponding intput text file.\n",
    "- We found that each pixel in the image has identical values across blue, green and red channels."
   ]
  },
  {
   "cell_type": "code",
   "execution_count": 3,
   "id": "d27dba99-ad6e-44ee-9d12-3fe98ce715c8",
   "metadata": {},
   "outputs": [
    {
     "name": "stdout",
     "output_type": "stream",
     "text": [
      "Skipped images: ['./sampleCaptchas/input/input100.jpg', './sampleCaptchas/input/input21.jpg'].\n",
      "24 training images enrolled.\n"
     ]
    }
   ],
   "source": [
    "skipped = []\n",
    "for i, img_file in enumerate(train_img_list):\n",
    "    input_txt = train_txt_list[i]\n",
    "    output_txt = label_txt_list[i]\n",
    "    img = cv2.imread(img_file)\n",
    "    h, w, c = img.shape\n",
    "\n",
    "    with open(input_txt, 'r') as f:\n",
    "        input_meta = f.readlines()\n",
    "    with open(output_txt, 'r') as f:\n",
    "        label = f.read().strip()\n",
    "    h_meta, w_meta = input_meta[0].strip().split(' ')\n",
    "    if not int(h_meta) == h or not int(w_meta) == w:\n",
    "        warnings.warn(f'''\n",
    "            Found resolution mismatch: \"{img_file}\": Meta data: ({h_meta}, {w_meta}), image resolution: ({h}, {w}).\n",
    "        ''', UserWarning)\n",
    "        skipped.append(i)\n",
    "        continue\n",
    "\n",
    "    pixel_meta = []\n",
    "    for i_h, line_h in enumerate(input_meta[1:]):\n",
    "        for i_w, line_w in enumerate(line_h.strip().split(' ')):\n",
    "            b, g, r = img[i_h, i_w, :]\n",
    "            b_meta, g_meta, r_meta = line_w.strip().split(',')\n",
    "            assert b == g == r\n",
    "            assert int(b_meta) == b and int(g_meta) == g and int(r_meta) == r\n",
    "            pixel_meta.append(b)\n",
    "\n",
    "pixel_meta = np.array(pixel_meta)\n",
    "test_img_list += [train_img_list[i] for i in skipped]\n",
    "train_img_list = [train_img_list[i] for i in range(len(train_img_list)) if i not in skipped]\n",
    "train_txt_list = [train_txt_list[i] for i in range(len(train_txt_list)) if i not in skipped]\n",
    "label_txt_list = [label_txt_list[i] for i in range(len(label_txt_list)) if i not in skipped]\n",
    "print(f'Skipped images: {test_img_list}.')\n",
    "print(f'{len(train_img_list)} training images enrolled.')"
   ]
  },
  {
   "cell_type": "markdown",
   "id": "c88a0386-eb9f-42cb-b7ac-9acd2cddfa9b",
   "metadata": {},
   "source": [
    "## Convert image into binary map and segment it into characters\n",
    "- Count the values of all pixels from training images and plot a histogram.\n",
    "- From the histogram, we found that the pixel values of the characters are all below 40 and differ significantly from the pixel values of the background and noise."
   ]
  },
  {
   "cell_type": "code",
   "execution_count": 4,
   "id": "c439b615-115d-40f8-9b4a-5b7f96527116",
   "metadata": {},
   "outputs": [
    {
     "data": {
      "image/png": "[encoded data removed]",
      "text/plain": [
       "<Figure size 640x480 with 1 Axes>"
      ]
     },
     "metadata": {},
     "output_type": "display_data"
    }
   ],
   "source": [
    "plt.hist(pixel_meta, 7, density=True)\n",
    "plt.xticks(np.arange(0, 260, 20))\n",
    "plt.xlim(0, 260)\n",
    "plt.grid(True)\n",
    "plt.show() "
   ]
  },
  {
   "cell_type": "markdown",
   "id": "d2d43f9f-2ade-4679-8dee-4e525f961b3a",
   "metadata": {},
   "source": [
    "- Set the threshold to 40.\n",
    "- Take the first captcha as an example. Convert the image into a binary map which is easier to process."
   ]
  },
  {
   "cell_type": "code",
   "execution_count": 5,
   "id": "488fa384-aa16-4d9a-9ba8-a116d87fecc7",
   "metadata": {},
   "outputs": [],
   "source": [
    "threshold = 40"
   ]
  },
  {
   "cell_type": "code",
   "execution_count": 6,
   "id": "75680036-c5fe-41ea-b455-5198a0635076",
   "metadata": {},
   "outputs": [
    {
     "data": {
      "text/plain": [
       "<matplotlib.image.AxesImage at 0x7f1cf89b6640>"
      ]
     },
     "execution_count": 6,
     "metadata": {},
     "output_type": "execute_result"
    },
    {
     "data": {
      "image/png": "[encoded data removed]",
      "text/plain": [
       "<Figure size 640x480 with 1 Axes>"
      ]
     },
     "metadata": {},
     "output_type": "display_data"
    }
   ],
   "source": [
    "img_file = train_img_list[0]\n",
    "img = cv2.imread(img_file)\n",
    "plt.imshow(img)"
   ]
  },
  {
   "cell_type": "code",
   "execution_count": 7,
   "id": "1087195e-cdcb-4a93-9273-7ac9c0c2e6fd",
   "metadata": {},
   "outputs": [
    {
     "data": {
      "text/plain": [
       "<matplotlib.image.AxesImage at 0x7f1cf80df370>"
      ]
     },
     "execution_count": 7,
     "metadata": {},
     "output_type": "execute_result"
    },
    {
     "data": {
      "image/png": "[encoded data removed]",
      "text/plain": [
       "<Figure size 640x480 with 1 Axes>"
      ]
     },
     "metadata": {},
     "output_type": "display_data"
    }
   ],
   "source": [
    "binary = (img[:, :, 0] < threshold).astype(int)\n",
    "plt.imshow(binary)"
   ]
  },
  {
   "cell_type": "markdown",
   "id": "024cd560-0c3a-41a2-a0b9-1075c75ee6e5",
   "metadata": {},
   "source": [
    "- Remove the blank areas by checking whether the sum of its rows or columns equals zero.\n",
    "- Crop the image into segments containing only one character."
   ]
  },
  {
   "cell_type": "code",
   "execution_count": 8,
   "id": "6c582c1d-4fdb-44ba-9086-1d0562e8cc5f",
   "metadata": {},
   "outputs": [
    {
     "data": {
      "text/plain": [
       "<matplotlib.image.AxesImage at 0x7f1cf80cf6d0>"
      ]
     },
     "execution_count": 8,
     "metadata": {},
     "output_type": "execute_result"
    },
    {
     "data": {
      "image/png": "[encoded data removed]",
      "text/plain": [
       "<Figure size 640x480 with 1 Axes>"
      ]
     },
     "metadata": {},
     "output_type": "display_data"
    }
   ],
   "source": [
    "start = 0\n",
    "end = 0\n",
    "row_sum = np.sum(binary, axis=1)\n",
    "for i_r, row in enumerate(row_sum):\n",
    "    if row:\n",
    "        if start == 0:\n",
    "            start = i_r\n",
    "        else:\n",
    "            end = i_r\n",
    "end += 1\n",
    "binary = binary[start:end, :]\n",
    "plt.imshow(binary)"
   ]
  },
  {
   "cell_type": "code",
   "execution_count": 9,
   "id": "89bad39d-947e-42ee-9b2d-2d5e5037f08b",
   "metadata": {},
   "outputs": [
    {
     "data": {
      "image/png": "[encoded data removed]",
      "text/plain": [
       "<Figure size 640x480 with 5 Axes>"
      ]
     },
     "metadata": {},
     "output_type": "display_data"
    }
   ],
   "source": [
    "segments = []\n",
    "start = 0\n",
    "end = 0\n",
    "col_sum = np.sum(binary, axis=0)\n",
    "for i_c, col in enumerate(col_sum):\n",
    "    if col:\n",
    "        if start == 0:\n",
    "            start = i_c\n",
    "        else:\n",
    "            end = i_c\n",
    "    elif end != 0:\n",
    "        segments.append([start, end+1])\n",
    "        start = 0\n",
    "        end = 0\n",
    "fig, axs = plt.subplots(1, 5, sharex=True, sharey=True)\n",
    "for i_char, seg in enumerate(segments):\n",
    "    axs[i_char].imshow(binary[:, seg[0]:seg[1]])\n",
    "    axs[i_char].set_xticks(np.arange(0, 8, 1))\n",
    "    axs[i_char].set_yticks(np.arange(0, 10, 1))\n",
    "    axs[i_char].grid(True)"
   ]
  },
  {
   "cell_type": "markdown",
   "id": "ce3fc367-c5d2-404b-950a-d0cfe988669f",
   "metadata": {},
   "source": [
    "## Generate a mapping dictionary between the character segments and the corresponding characters.\n",
    "- Crop all character's segments in the dataset.\n",
    "- Check if the same character segment set is used for all images across the dataset."
   ]
  },
  {
   "cell_type": "code",
   "execution_count": 10,
   "id": "2e68f207-9e2d-4fbb-9b6a-b3e89cf56fe0",
   "metadata": {},
   "outputs": [],
   "source": [
    "label2id = {}\n",
    "id2sample = []\n",
    "for i, img_path in enumerate(train_img_list):\n",
    "    img = cv2.imread(img_path)\n",
    "    output_txt = label_txt_list[i]\n",
    "    with open(output_txt, 'r') as f:\n",
    "        label = f.read().strip()\n",
    "    assert len(label) == 5\n",
    "\n",
    "    binary = (img[:, :, 0] < threshold).astype(int)\n",
    "    start = 0\n",
    "    end = 0\n",
    "    row_sum = np.sum(binary, axis=1)\n",
    "    for i_r, row in enumerate(row_sum):\n",
    "        if row:\n",
    "            if start == 0:\n",
    "                start = i_r\n",
    "            else:\n",
    "                end = i_r\n",
    "    end += 1\n",
    "\n",
    "    binary = binary[start:end, :]\n",
    "    segments = []\n",
    "    start = 0\n",
    "    end = 0\n",
    "    col_sum = np.sum(binary, axis=0)\n",
    "    for i_c, col in enumerate(col_sum):\n",
    "        if col:\n",
    "            if start == 0:\n",
    "                start = i_c\n",
    "            else:\n",
    "                end = i_c\n",
    "        elif end != 0:\n",
    "            segments.append([start, end+1])\n",
    "            start = 0\n",
    "            end = 0\n",
    "\n",
    "    for i_char, seg in enumerate(segments):\n",
    "        if not label[i_char] in label2id:\n",
    "            label2id[label[i_char]] = len(id2sample)\n",
    "            id2sample.append(binary[:, seg[0]:seg[1]])\n",
    "        else:\n",
    "            assert seg[1] - seg[0] == id2sample[label2id[label[i_char]]].shape[1]\n",
    "            assert np.all(id2sample[label2id[label[i_char]]] == binary[:, seg[0]: seg[1]])\n",
    "\n",
    "id2label = {}\n",
    "for letter in label2id:\n",
    "    id2label[label2id[letter]] = letter"
   ]
  },
  {
   "cell_type": "markdown",
   "id": "313fe73c-b0e9-4a18-92fd-ca1cee6e1ca1",
   "metadata": {},
   "source": [
    "## Use the dictionary to identify the images in test dataset\n",
    "- Crop characters from images in test dataset.\n",
    "- Compare them with the segments in our character dictionary.\n",
    "- Combine the mapped characters into string as the predicted result."
   ]
  },
  {
   "cell_type": "code",
   "execution_count": 11,
   "id": "e4034085-44a8-41c6-903a-d06fbabe1221",
   "metadata": {},
   "outputs": [
    {
     "name": "stdout",
     "output_type": "stream",
     "text": [
      "Image: ./sampleCaptchas/input/input100.jpg\tPrediction: YMB1Q\n",
      "Image: ./sampleCaptchas/input/input21.jpg\tPrediction: CL69V\n"
     ]
    }
   ],
   "source": [
    "for i, img_file in enumerate(test_img_list):\n",
    "    answer = []\n",
    "    img = cv2.imread(img_file)\n",
    "    binary = (img[:, :, 0] < threshold).astype(int)\n",
    "\n",
    "    start = 0\n",
    "    end = 0\n",
    "    row_sum = np.sum(binary, axis=1)\n",
    "    for i_r, row in enumerate(row_sum):\n",
    "        if row:\n",
    "            if start == 0:\n",
    "                start = i_r\n",
    "            else:\n",
    "                end = i_r\n",
    "    end += 1\n",
    "\n",
    "    binary = binary[start:end, :]\n",
    "    segments = []\n",
    "    start = 0\n",
    "    end = 0\n",
    "    col_sum = np.sum(binary, axis=0)\n",
    "    for i_c, col in enumerate(col_sum):\n",
    "        if col:\n",
    "            if start == 0:\n",
    "                start = i_c\n",
    "            else:\n",
    "                end = i_c\n",
    "        elif end != 0:\n",
    "            segments.append([start, end+1])\n",
    "            start = 0\n",
    "            end = 0\n",
    "\n",
    "    for i_char, seg in enumerate(segments):\n",
    "        for i_sample, sample in enumerate(id2sample):\n",
    "            if seg[1] - seg[0] != sample.shape[1]:\n",
    "                continue\n",
    "            if np.all(binary[:, seg[0]:seg[1]] == sample):\n",
    "                answer.append(id2label[i_sample])\n",
    "    print(f'Image: {img_file}\\tPrediction:', ''.join(answer))"
   ]
  },
  {
   "cell_type": "markdown",
   "id": "5bb2c8f6-8fb6-4842-a732-fe731077ddc8",
   "metadata": {},
   "source": [
    "- Test with the training data and print the predictions with ground truths\n",
    "- Calculate the accuracy."
   ]
  },
  {
   "cell_type": "code",
   "execution_count": 12,
   "id": "d1ebc367-464c-4aca-aa65-47e682db1fb8",
   "metadata": {},
   "outputs": [
    {
     "name": "stdout",
     "output_type": "stream",
     "text": [
      "Image: ./sampleCaptchas/input/input00.jpg\tLabel: EGYK4\tPrediction: EGYK4\n",
      "Image: ./sampleCaptchas/input/input01.jpg\tLabel: GRC35\tPrediction: GRC35\n",
      "Image: ./sampleCaptchas/input/input02.jpg\tLabel: 6O5W1\tPrediction: 6O5W1\n",
      "Image: ./sampleCaptchas/input/input03.jpg\tLabel: J627C\tPrediction: J627C\n",
      "Image: ./sampleCaptchas/input/input04.jpg\tLabel: VLI2C\tPrediction: VLI2C\n",
      "Image: ./sampleCaptchas/input/input05.jpg\tLabel: O1R7Q\tPrediction: O1R7Q\n",
      "Image: ./sampleCaptchas/input/input06.jpg\tLabel: OYTAD\tPrediction: OYTAD\n",
      "Image: ./sampleCaptchas/input/input07.jpg\tLabel: ZRMQU\tPrediction: ZRMQU\n",
      "Image: ./sampleCaptchas/input/input08.jpg\tLabel: N9DQS\tPrediction: N9DQS\n",
      "Image: ./sampleCaptchas/input/input09.jpg\tLabel: ZGJS3\tPrediction: ZGJS3\n",
      "Image: ./sampleCaptchas/input/input10.jpg\tLabel: GZMBA\tPrediction: GZMBA\n",
      "Image: ./sampleCaptchas/input/input11.jpg\tLabel: J14DM\tPrediction: J14DM\n",
      "Image: ./sampleCaptchas/input/input12.jpg\tLabel: PQ9AE\tPrediction: PQ9AE\n",
      "Image: ./sampleCaptchas/input/input13.jpg\tLabel: VWZDO\tPrediction: VWZDO\n",
      "Image: ./sampleCaptchas/input/input14.jpg\tLabel: WGST7\tPrediction: WGST7\n",
      "Image: ./sampleCaptchas/input/input15.jpg\tLabel: XKMS2\tPrediction: XKMS2\n",
      "Image: ./sampleCaptchas/input/input16.jpg\tLabel: 1D2KB\tPrediction: 1D2KB\n",
      "Image: ./sampleCaptchas/input/input17.jpg\tLabel: 20BHQ\tPrediction: 20BHQ\n",
      "Image: ./sampleCaptchas/input/input18.jpg\tLabel: OAH0V\tPrediction: OAH0V\n",
      "Image: ./sampleCaptchas/input/input19.jpg\tLabel: 5I8VE\tPrediction: 5I8VE\n",
      "Image: ./sampleCaptchas/input/input20.jpg\tLabel: Z97ME\tPrediction: Z97ME\n",
      "Image: ./sampleCaptchas/input/input22.jpg\tLabel: HCE91\tPrediction: HCE91\n",
      "Image: ./sampleCaptchas/input/input23.jpg\tLabel: WELXV\tPrediction: WELXV\n",
      "Image: ./sampleCaptchas/input/input24.jpg\tLabel: UHVFO\tPrediction: UHVFO\n",
      "Accuracy on training dataset:  100.0000%\n"
     ]
    }
   ],
   "source": [
    "acc_count = 0\n",
    "for i, img_file in enumerate(train_img_list):\n",
    "    answer = []\n",
    "    output_txt = label_txt_list[i]\n",
    "    with open(output_txt, 'r') as f:\n",
    "        label = f.read().strip()\n",
    "    img = cv2.imread(img_file)\n",
    "    binary = (img[:, :, 0] < threshold).astype(int)\n",
    "\n",
    "    start = 0\n",
    "    end = 0\n",
    "    row_sum = np.sum(binary, axis=1)\n",
    "    for i_r, row in enumerate(row_sum):\n",
    "        if row:\n",
    "            if start == 0:\n",
    "                start = i_r\n",
    "            else:\n",
    "                end = i_r\n",
    "    end += 1\n",
    "\n",
    "    binary = binary[start:end, :]\n",
    "    segments = []\n",
    "    start = 0\n",
    "    end = 0\n",
    "    col_sum = np.sum(binary, axis=0)\n",
    "    for i_c, col in enumerate(col_sum):\n",
    "        if col:\n",
    "            if start == 0:\n",
    "                start = i_c\n",
    "            else:\n",
    "                end = i_c\n",
    "        elif end != 0:\n",
    "            segments.append([start, end+1])\n",
    "            start = 0\n",
    "            end = 0\n",
    "\n",
    "    for i_char, seg in enumerate(segments):\n",
    "        for i_sample, sample in enumerate(id2sample):\n",
    "            if seg[1] - seg[0] != sample.shape[1]:\n",
    "                continue\n",
    "            if np.all(binary[:, seg[0]:seg[1]] == sample):\n",
    "                answer.append(id2label[i_sample])\n",
    "    answer = ''.join(answer)\n",
    "    if label == answer:\n",
    "        acc_count += 1\n",
    "    print(f'Image: {img_file}\\tLabel: {label}\\tPrediction: {answer}')\n",
    "print(f'Accuracy on training dataset: {100 * acc_count / len(train_img_list): .4f}%')"
   ]
  },
  {
   "cell_type": "code",
   "execution_count": null,
   "id": "3cfa20e8-f58b-45b5-9d58-5bb32371a1c6",
   "metadata": {},
   "outputs": [],
   "source": []
  }
 ],
 "metadata": {
  "kernelspec": {
   "display_name": "Python 3 (ipykernel)",
   "language": "python",
   "name": "python3"
  },
  "language_info": {
   "codemirror_mode": {
    "name": "ipython",
    "version": 3
   },
   "file_extension": ".py",
   "mimetype": "text/x-python",
   "name": "python",
   "nbconvert_exporter": "python",
   "pygments_lexer": "ipython3",
   "version": "3.9.17"
  }
 },
 "nbformat": 4,
 "nbformat_minor": 5
}
